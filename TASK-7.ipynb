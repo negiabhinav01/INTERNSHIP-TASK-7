{
 "cells": [
  {
   "cell_type": "code",
   "execution_count": 62,
   "id": "d74fafa5",
   "metadata": {},
   "outputs": [],
   "source": [
    "import pandas as pd\n",
    "import matplotlib.pyplot as plt\n",
    "import sqlite3 as sqli"
   ]
  },
  {
   "cell_type": "code",
   "execution_count": 63,
   "id": "d3008e0b",
   "metadata": {},
   "outputs": [
    {
     "name": "stdout",
     "output_type": "stream",
     "text": [
      "Successfully created table 'sales' in database 'sales_data.db'.\n"
     ]
    }
   ],
   "source": [
    "# Define the database file name\n",
    "db_file = 'sales_data.db'\n",
    "\n",
    "# Define the table name\n",
    "table_name = 'sales'\n",
    "\n",
    "# Define the columns for the sales table\n",
    "columns = [\n",
    "    ('item_name', 'TEXT'),\n",
    "    ('quantity', 'INTEGER'),\n",
    "    ('quantity_sold', 'INTEGER'),\n",
    "    ('price', 'REAL'),\n",
    "    ('total_revenue', 'REAL')\n",
    "]\n",
    "\n",
    "try:\n",
    "    conn = sqli.connect(db_file)\n",
    "    # Connect to the SQLite database (creates the file if it doesn't exist)\n",
    "   \n",
    "    cursor = conn.cursor()\n",
    "\n",
    "    # Construct the CREATE TABLE statement\n",
    "    create_table_sql = f\"CREATE TABLE IF NOT EXISTS {table_name} (\"\n",
    "    for i, (col_name, col_type) in enumerate(columns):\n",
    "        create_table_sql += f\"{col_name} {col_type}\"\n",
    "        if i < len(columns) - 1:\n",
    "            create_table_sql += \", \"\n",
    "    create_table_sql += \")\"\n",
    "\n",
    "    # Execute the CREATE TABLE statement\n",
    "    cursor.execute(create_table_sql)\n",
    "\n",
    "    print(f\"Successfully created table '{table_name}' in database '{db_file}'.\")\n",
    "\n",
    "    # Commit the changes\n",
    "    conn.commit()\n",
    "\n",
    "except sqli.Error as e:\n",
    "    print(f\"An error occurred: {e}\")\n",
    "\n",
    "finally:\n",
    "    # Close the database connection\n",
    "    if conn:\n",
    "        conn.close()"
   ]
  },
  {
   "cell_type": "code",
   "execution_count": 64,
   "id": "d24e0104",
   "metadata": {},
   "outputs": [
    {
     "name": "stdout",
     "output_type": "stream",
     "text": [
      "Successfully inserted 10 rows of dummy data into the 'sales' table in 'sales_data.db'.\n"
     ]
    }
   ],
   "source": [
    "import random\n",
    "# Define the database file name and table name\n",
    "db_file = 'sales_data.db'\n",
    "table_name = 'sales'\n",
    "\n",
    "# Sample item names\n",
    "item_names = ['Laptop', 'Mouse', 'Keyboard', 'Monitor', 'Webcam',\n",
    "              'Headphones', 'Speaker', 'USB Drive', 'External HDD', 'Printer']\n",
    "\n",
    "try:\n",
    "    # Connect to the SQLite database\n",
    "    conn = sqli.connect(db_file)\n",
    "    cursor = conn.cursor()\n",
    "\n",
    "    # Function to generate random sales data\n",
    "    def generate_sales_data():\n",
    "        item = random.choice(item_names)\n",
    "        quantity = random.randint(10, 100)\n",
    "        quantity_sold = random.randint(0, quantity)\n",
    "        price = round(random.uniform(20, 500), 2)\n",
    "        total_revenue = round(quantity_sold * price, 2)\n",
    "        return (item, quantity, quantity_sold, price, total_revenue)\n",
    "\n",
    "    # Insert 10 rows of dummy data\n",
    "    for _ in range(10):\n",
    "        data = generate_sales_data()\n",
    "        insert_sql = f\"INSERT INTO {table_name} (item_name, quantity, quantity_sold, price, total_revenue) VALUES (?, ?, ?, ?, ?)\"\n",
    "        cursor.execute(insert_sql, data)\n",
    "\n",
    "    # Commit the changes\n",
    "    conn.commit()\n",
    "    print(f\"Successfully inserted 10 rows of dummy data into the '{table_name}' table in '{db_file}'.\")\n",
    "\n",
    "except sqli.Error as e:\n",
    "    print(f\"An error occurred: {e}\")\n",
    "\n",
    "finally:\n",
    "    # Close the database connection\n",
    "    if conn:\n",
    "        conn.close()"
   ]
  },
  {
   "cell_type": "code",
   "execution_count": 65,
   "id": "e31435a9",
   "metadata": {},
   "outputs": [
    {
     "name": "stdout",
     "output_type": "stream",
     "text": [
      "Query Results:\n",
      "        product  total_qty    revenue\n",
      "0  External HDD        531   38266.38\n",
      "1    Headphones        406   53846.28\n",
      "2      Keyboard        481   50293.76\n",
      "3        Laptop        525   71492.18\n",
      "4       Monitor        619   52997.14\n",
      "5         Mouse        704   76105.36\n",
      "6       Printer        938  103357.59\n",
      "7       Speaker        721  114009.50\n",
      "8     USB Drive        907   97125.22\n",
      "9        Webcam        709  100033.21\n"
     ]
    }
   ],
   "source": [
    "try:\n",
    "    # Connect to the SQLite database\n",
    "    conn = sqli.connect(db_file)\n",
    "    cursor = conn.cursor()\n",
    "\n",
    "    # Basic SQL query\n",
    "    query = \"\"\"\n",
    "    SELECT item_name AS product,\n",
    "           SUM(quantity) AS total_qty,\n",
    "           SUM(quantity_sold * price) AS revenue\n",
    "    FROM sales\n",
    "    GROUP BY product\n",
    "    \"\"\"\n",
    "\n",
    "    # Load the query results into a pandas DataFrame\n",
    "    df = pd.read_sql_query(query, conn)\n",
    "\n",
    "    # Print the results\n",
    "    print(\"Query Results:\")\n",
    "    print(df)\n",
    "\n",
    "finally:\n",
    "    # Close the database connection\n",
    "    if conn:\n",
    "        conn.close()"
   ]
  },
  {
   "cell_type": "code",
   "execution_count": 66,
   "id": "d4371493",
   "metadata": {},
   "outputs": [
    {
     "name": "stdout",
     "output_type": "stream",
     "text": [
      "\n",
      "Sales chart saved as sales_chart.png\n"
     ]
    },
    {
     "data": {
      "image/png": "[encoded data removed]",
      "text/plain": [
       "<Figure size 640x480 with 1 Axes>"
      ]
     },
     "metadata": {},
     "output_type": "display_data"
    }
   ],
   "source": [
    "df.plot(kind='bar', x='product', y='revenue', title='Total Revenue by Product')\n",
    "plt.xlabel(\"Product\")  # Use plt.xlabel\n",
    "plt.ylabel(\"Total Revenue\")  # Use plt.ylabel\n",
    "plt.xticks(rotation=45, ha='right')\n",
    "plt.tight_layout()\n",
    "\n",
    "# Save the chart (optional)\n",
    "plt.savefig(\"sales_chart.png\")\n",
    "print(\"\\nSales chart saved as sales_chart.png\")\n",
    "\n",
    "# Show the plot (optional - if you are running in an environment where plots are displayed)\n",
    "plt.show()"
   ]
  },
  {
   "cell_type": "code",
   "execution_count": null,
   "id": "0711950e",
   "metadata": {},
   "outputs": [],
   "source": []
  }
 ],
 "metadata": {
  "kernelspec": {
   "display_name": "Python 3",
   "language": "python",
   "name": "python3"
  },
  "language_info": {
   "codemirror_mode": {
    "name": "ipython",
    "version": 3
   },
   "file_extension": ".py",
   "mimetype": "text/x-python",
   "name": "python",
   "nbconvert_exporter": "python",
   "pygments_lexer": "ipython3",
   "version": "3.10.0"
  }
 },
 "nbformat": 4,
 "nbformat_minor": 5
}
